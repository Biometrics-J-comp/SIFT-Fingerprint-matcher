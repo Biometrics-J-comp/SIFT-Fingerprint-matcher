{
 "cells": [
  {
   "cell_type": "markdown",
   "id": "3f40ea1b",
   "metadata": {},
   "source": [
    "# Importing necessary libraries"
   ]
  },
  {
   "cell_type": "code",
   "execution_count": 15,
   "id": "3f968f00",
   "metadata": {},
   "outputs": [],
   "source": [
    "import cv2\n",
    "import numpy as np\n",
    "import os\n",
    "import pandas as pd"
   ]
  },
  {
   "cell_type": "markdown",
   "id": "583c6dc8",
   "metadata": {},
   "source": [
    "# Fetching Input for the FP input "
   ]
  },
  {
   "cell_type": "code",
   "execution_count": 16,
   "id": "a97dabb9",
   "metadata": {},
   "outputs": [],
   "source": [
    "inp_fp = cv2.imread(\"FPDB/100__M_Left_index_finger.bmp\") #read the fingerprint input image\n",
    "cv2.imshow(\"Fingerprint Input\", cv2.resize(inp_fp, None, fx=3, fy=3)) #show image in a different window\n",
    "cv2.waitKey(0) #wait for close on output window\n",
    "cv2.destroyAllWindows() #after closing,delete the window"
   ]
  },
  {
   "cell_type": "markdown",
   "id": "167a3044",
   "metadata": {},
   "source": [
    "# Fingerprint match using SIFT "
   ]
  },
  {
   "cell_type": "code",
   "execution_count": 17,
   "id": "46761361",
   "metadata": {},
   "outputs": [],
   "source": [
    "def fp_match(fpin):\n",
    "    for file in [file for file in os.listdir(\"FPDB\")]: #traverse through the database for matching fingerprint\n",
    "        fingerprint_database_image = cv2.imread('FPDB/'+file) #reading the traversed file\n",
    "        #SIFT-->SCALE INVARIANT FEATURE TRANSFORM\n",
    "        #before SIFT,we need to create a SIFT feature detector object\n",
    "\n",
    "        #sift = cv2.xfeatures2d.SIFT_create()  for OpenCV 3.4.1\n",
    "        sift=cv2.SIFT_create()  #for OpenCV 2\n",
    "                                                                            #FINDING KEYPOINTS(Detect) AND DESCRIPTORS(Compute)\n",
    "        keypoints_1, descriptors_1 = sift.detectAndCompute(fpin, None) #in the original image \n",
    "\n",
    "        keypoints_2, descriptors_2 = sift.detectAndCompute(fingerprint_database_image, None) #in the traversed image\n",
    "\n",
    "        #Matching and comparing both images using the Keypoints\n",
    "        #FLANN-Fast Library for Approximate Nearest Neighbors Based Matcher \n",
    "        #is used for the comparision of the both,which matches features of both finger prints\n",
    "        #quick and efficient\n",
    "        #uses Clustering and Search in MultiDimensional Spaces\n",
    "\n",
    "        #knnMatch to implement Image matching and sort the match results\n",
    "        #k=2-->best 2 matches for each keypoint\n",
    "        #matches = cv2.FlannBasedMatcher(dict(algorithm=FLANN_INDEX_KDTREE, trees=5),dict()).knnMatch(descriptors_1, descriptors_2, k=2)\n",
    "\n",
    "        matches = cv2.FlannBasedMatcher(dict(algorithm=1, trees=10),dict()).knnMatch(descriptors_1, descriptors_2, k=2)\n",
    "        match_points = []\n",
    "        #print(matches)\n",
    "        for p, q in matches:\n",
    "            #CHECKING FOR GOOD MATCHES\n",
    "            if p.distance < 0.1*q.distance:\n",
    "                match_points.append(p)\n",
    "            keypoints = 0\n",
    "            if len(keypoints_1) <= len(keypoints_2):\n",
    "                keypoints = len(keypoints_1)            \n",
    "            else:\n",
    "                keypoints = len(keypoints_2)\n",
    "\n",
    "            #print(keypoints)\n",
    "\n",
    "            #if we have a proper match,show the output of matched file,%match and the matching lines\n",
    "            if (len(match_points) / keypoints)>0.95:\n",
    "                matchper=round(len(match_points) / keypoints * 100,2) #Successful matches from the features tracked\n",
    "                matchfromdb=str(file) \n",
    "                #result = cv2.drawMatches(test_original, keypoints_1, fingerprint_database_image, keypoints_2, match_points, None) \n",
    "                #result = cv2.resize(result, None, fx=5.5, fy=5.5)\n",
    "                #cv2.imshow(\"result\", result)\n",
    "                #cv2.waitKey(0)\n",
    "                #cv2.destroyAllWindows()\n",
    "                return matchper,matchfromdb"
   ]
  },
  {
   "cell_type": "markdown",
   "id": "cc34cd05",
   "metadata": {},
   "source": [
    "# Performing fp recognition on the input fp"
   ]
  },
  {
   "cell_type": "code",
   "execution_count": 18,
   "id": "81205f9a",
   "metadata": {},
   "outputs": [],
   "source": [
    "matchacc,fname=fp_match(inp_fp)"
   ]
  },
  {
   "cell_type": "markdown",
   "id": "ff79c47a",
   "metadata": {},
   "source": [
    "# A sample DB to enhance the Interface!"
   ]
  },
  {
   "cell_type": "code",
   "execution_count": 19,
   "id": "abf185cc",
   "metadata": {},
   "outputs": [
    {
     "data": {
      "text/html": [
       "<div>\n",
       "<style scoped>\n",
       "    .dataframe tbody tr th:only-of-type {\n",
       "        vertical-align: middle;\n",
       "    }\n",
       "\n",
       "    .dataframe tbody tr th {\n",
       "        vertical-align: top;\n",
       "    }\n",
       "\n",
       "    .dataframe thead th {\n",
       "        text-align: right;\n",
       "    }\n",
       "</style>\n",
       "<table border=\"1\" class=\"dataframe\">\n",
       "  <thead>\n",
       "    <tr style=\"text-align: right;\">\n",
       "      <th></th>\n",
       "      <th>Name</th>\n",
       "    </tr>\n",
       "    <tr>\n",
       "      <th>Employee ID</th>\n",
       "      <th></th>\n",
       "    </tr>\n",
       "  </thead>\n",
       "  <tbody>\n",
       "    <tr>\n",
       "      <th>100</th>\n",
       "      <td>Mira Sanford</td>\n",
       "    </tr>\n",
       "    <tr>\n",
       "      <th>101</th>\n",
       "      <td>Kayley Strickland</td>\n",
       "    </tr>\n",
       "    <tr>\n",
       "      <th>102</th>\n",
       "      <td>Christina Frazier</td>\n",
       "    </tr>\n",
       "    <tr>\n",
       "      <th>103</th>\n",
       "      <td>Derick Whitney</td>\n",
       "    </tr>\n",
       "    <tr>\n",
       "      <th>104</th>\n",
       "      <td>Colin Fields</td>\n",
       "    </tr>\n",
       "    <tr>\n",
       "      <th>105</th>\n",
       "      <td>Brenna Graham</td>\n",
       "    </tr>\n",
       "    <tr>\n",
       "      <th>106</th>\n",
       "      <td>Mylie Espinoza</td>\n",
       "    </tr>\n",
       "    <tr>\n",
       "      <th>107</th>\n",
       "      <td>Zaria Rivas</td>\n",
       "    </tr>\n",
       "    <tr>\n",
       "      <th>108</th>\n",
       "      <td>Johnathon Gilbert</td>\n",
       "    </tr>\n",
       "    <tr>\n",
       "      <th>109</th>\n",
       "      <td>Kennedy Bautista</td>\n",
       "    </tr>\n",
       "    <tr>\n",
       "      <th>110</th>\n",
       "      <td>Reese Erickson</td>\n",
       "    </tr>\n",
       "    <tr>\n",
       "      <th>111</th>\n",
       "      <td>Makai Mills</td>\n",
       "    </tr>\n",
       "    <tr>\n",
       "      <th>112</th>\n",
       "      <td>Sarai Watson</td>\n",
       "    </tr>\n",
       "    <tr>\n",
       "      <th>113</th>\n",
       "      <td>Edward Proctor</td>\n",
       "    </tr>\n",
       "    <tr>\n",
       "      <th>114</th>\n",
       "      <td>Harmony Montes</td>\n",
       "    </tr>\n",
       "    <tr>\n",
       "      <th>115</th>\n",
       "      <td>Blaze Cook</td>\n",
       "    </tr>\n",
       "    <tr>\n",
       "      <th>116</th>\n",
       "      <td>Elvis Bowen</td>\n",
       "    </tr>\n",
       "    <tr>\n",
       "      <th>117</th>\n",
       "      <td>Ava Pena</td>\n",
       "    </tr>\n",
       "    <tr>\n",
       "      <th>118</th>\n",
       "      <td>Steven Cameron</td>\n",
       "    </tr>\n",
       "    <tr>\n",
       "      <th>119</th>\n",
       "      <td>Brayan Brady</td>\n",
       "    </tr>\n",
       "    <tr>\n",
       "      <th>120</th>\n",
       "      <td>Rosa Frazier</td>\n",
       "    </tr>\n",
       "    <tr>\n",
       "      <th>121</th>\n",
       "      <td>Jordan Todd</td>\n",
       "    </tr>\n",
       "    <tr>\n",
       "      <th>122</th>\n",
       "      <td>Zane Hurley</td>\n",
       "    </tr>\n",
       "    <tr>\n",
       "      <th>123</th>\n",
       "      <td>Willow Rose</td>\n",
       "    </tr>\n",
       "    <tr>\n",
       "      <th>124</th>\n",
       "      <td>Emerson Gross</td>\n",
       "    </tr>\n",
       "    <tr>\n",
       "      <th>125</th>\n",
       "      <td>Scarlet Murray</td>\n",
       "    </tr>\n",
       "  </tbody>\n",
       "</table>\n",
       "</div>"
      ],
      "text/plain": [
       "                          Name\n",
       "Employee ID                   \n",
       "100               Mira Sanford\n",
       "101          Kayley Strickland\n",
       "102          Christina Frazier\n",
       "103             Derick Whitney\n",
       "104               Colin Fields\n",
       "105              Brenna Graham\n",
       "106             Mylie Espinoza\n",
       "107                Zaria Rivas\n",
       "108          Johnathon Gilbert\n",
       "109           Kennedy Bautista\n",
       "110             Reese Erickson\n",
       "111                Makai Mills\n",
       "112               Sarai Watson\n",
       "113             Edward Proctor\n",
       "114             Harmony Montes\n",
       "115                 Blaze Cook\n",
       "116                Elvis Bowen\n",
       "117                   Ava Pena\n",
       "118             Steven Cameron\n",
       "119               Brayan Brady\n",
       "120               Rosa Frazier\n",
       "121                Jordan Todd\n",
       "122                Zane Hurley\n",
       "123                Willow Rose\n",
       "124              Emerson Gross\n",
       "125             Scarlet Murray"
      ]
     },
     "execution_count": 19,
     "metadata": {},
     "output_type": "execute_result"
    }
   ],
   "source": [
    "DB=pd.read_csv('Group11-DB.csv',index_col=\"Employee ID\")\n",
    "DB"
   ]
  },
  {
   "cell_type": "markdown",
   "id": "d172ce0b",
   "metadata": {},
   "source": [
    "# Displaying output"
   ]
  },
  {
   "cell_type": "code",
   "execution_count": 20,
   "id": "bb0d73b4",
   "metadata": {},
   "outputs": [
    {
     "name": "stdout",
     "output_type": "stream",
     "text": [
      "Welcome Mira Sanford!\n",
      "Employee ID: 100\n",
      "Finger used: Left index finger (97.22% match)\n"
     ]
    }
   ],
   "source": [
    "lst=fname.split(\"_\")\n",
    "Name_from_csv=DB.loc[int(lst[0])][\"Name\"]\n",
    "print(\"Welcome\",Name_from_csv+\"!\")\n",
    "print(\"Employee ID:\",lst[0])\n",
    "print(\"Finger used:\",lst[3],lst[4],\"finger (\"+str(matchacc)+\"% match)\")"
   ]
  },
  {
   "cell_type": "code",
   "execution_count": null,
   "id": "c7952518",
   "metadata": {},
   "outputs": [],
   "source": []
  }
 ],
 "metadata": {
  "kernelspec": {
   "display_name": "Python 3",
   "language": "python",
   "name": "python3"
  },
  "language_info": {
   "codemirror_mode": {
    "name": "ipython",
    "version": 3
   },
   "file_extension": ".py",
   "mimetype": "text/x-python",
   "name": "python",
   "nbconvert_exporter": "python",
   "pygments_lexer": "ipython3",
   "version": "3.8.8"
  }
 },
 "nbformat": 4,
 "nbformat_minor": 5
}

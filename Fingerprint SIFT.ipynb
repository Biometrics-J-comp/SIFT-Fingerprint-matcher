{
 "cells": [
  {
   "cell_type": "code",
   "execution_count": 2,
   "id": "b75d59ad",
   "metadata": {},
   "outputs": [],
   "source": [
    "import cv2\n",
    "import numpy as np\n",
    "import os"
   ]
  },
  {
   "cell_type": "markdown",
   "id": "e6145b45",
   "metadata": {},
   "source": [
    "# SIFT"
   ]
  },
  {
   "cell_type": "code",
   "execution_count": null,
   "id": "7d75afca",
   "metadata": {},
   "outputs": [],
   "source": [
    "img = cv2.imread('DEMOIMGS/holi.jpg')\n",
    "gray= cv2.cvtColor(img,cv2.COLOR_BGR2GRAY)\n",
    "sift = cv2.SIFT_create()\n",
    "kp = sift.detect(gray,None)\n",
    "img=cv2.drawKeypoints(gray,kp,img)\n",
    "cv2.imshow('sift_keypoints',img)\n",
    "cv2.waitKey(0)\n",
    "cv2.destroyAllWindows()\n",
    "\n",
    "#draw a circle with size of keypoint and it will even show its orientation\n",
    "#img=cv2.drawKeypoints(gray,kp,img,flags=cv2.DRAW_MATCHES_FLAGS_DRAW_RICH_KEYPOINTS)\n",
    "#cv2.imshow('sift_keypoints.jpg',img)\n",
    "#cv2.waitKey(0)\n",
    "#cv2.destroyAllWindows()\n",
    "#sift = cv2.SIFT_create()\n",
    "#kp, des = sift.compute(gray,None)"
   ]
  },
  {
   "cell_type": "markdown",
   "id": "167a3044",
   "metadata": {},
   "source": [
    "# Fingerprint match using SIFT "
   ]
  },
  {
   "cell_type": "code",
   "execution_count": 19,
   "id": "095c0d95",
   "metadata": {},
   "outputs": [],
   "source": [
    "inp_fp = cv2.imread(\"FPDB/100__M_Left_index_finger.bmp\") #read the fingerprint input image\n",
    "cv2.imshow(\"Fingerprint Input\", cv2.resize(inp_fp, None, fx=3, fy=3)) #show image in a different window\n",
    "cv2.waitKey(3000) #wait for close on output window\n",
    "cv2.destroyAllWindows() #after closing,delete the window"
   ]
  },
  {
   "cell_type": "code",
   "execution_count": 17,
   "id": "46761361",
   "metadata": {},
   "outputs": [
    {
     "name": "stdout",
     "output_type": "stream",
     "text": [
      "97.22 %\n",
      "100__M_Left_index_finger.bmp\n"
     ]
    }
   ],
   "source": [
    "def fp_match(fpin):\n",
    "    for file in [file for file in os.listdir(\"FPDB\")]: #traverse through the database for matching fingerprint\n",
    "        fingerprint_database_image = cv2.imread('FPDB/'+file) #reading the traversed file\n",
    "        #SIFT-->SCALE INVARIANT FEATURE TRANSFORM\n",
    "        #before SIFT,we need to create a SIFT feature detector object\n",
    "\n",
    "        #sift = cv2.xfeatures2d.SIFT_create()  for OpenCV 3.4.1\n",
    "        sift=cv2.SIFT_create()  #for OpenCV 2\n",
    "                                                                            #FINDING KEYPOINTS(Detect) AND DESCRIPTORS(Compute)\n",
    "        keypoints_1, descriptors_1 = sift.detectAndCompute(fpin, None) #in the original image \n",
    "\n",
    "        keypoints_2, descriptors_2 = sift.detectAndCompute(fingerprint_database_image, None) #in the traversed image\n",
    "\n",
    "        #Matching and comparing both images using the Keypoints\n",
    "        #FLANN-Fast Library for Approximate Nearest Neighbors Based Matcher \n",
    "        #is used for the comparision of the both,which matches features of both finger prints\n",
    "        #quick and efficient\n",
    "        #uses Clustering and Search in MultiDimensional Spaces\n",
    "\n",
    "        #knnMatch to implement Image matching and sort the match results\n",
    "        #k=2-->best 2 matches for each keypoint\n",
    "        #matches = cv2.FlannBasedMatcher(dict(algorithm=FLANN_INDEX_KDTREE, trees=5),dict()).knnMatch(descriptors_1, descriptors_2, k=2)\n",
    "\n",
    "        matches = cv2.FlannBasedMatcher(dict(algorithm=1, trees=10),dict()).knnMatch(descriptors_1, descriptors_2, k=2)\n",
    "        match_points = []\n",
    "        #print(matches)\n",
    "        for p, q in matches:\n",
    "            #CHECKING FOR GOOD MATCHES\n",
    "            if p.distance < 0.1*q.distance:\n",
    "                match_points.append(p)\n",
    "            keypoints = 0\n",
    "            if len(keypoints_1) <= len(keypoints_2):\n",
    "                keypoints = len(keypoints_1)            \n",
    "            else:\n",
    "                keypoints = len(keypoints_2)\n",
    "\n",
    "            #print(keypoints)\n",
    "\n",
    "            #if we have a proper match,show the output of matched file,%match and the matching lines\n",
    "            if (len(match_points) / keypoints)>0.95:\n",
    "                matchper=round(len(match_points) / keypoints * 100,2) #Successful matches from the features tracked\n",
    "                matchfromdb=str(file) \n",
    "                #result = cv2.drawMatches(test_original, keypoints_1, fingerprint_database_image, keypoints_2, match_points, None) \n",
    "                #result = cv2.resize(result, None, fx=5.5, fy=5.5)\n",
    "                #cv2.imshow(\"result\", result)\n",
    "                #cv2.waitKey(0)\n",
    "                #cv2.destroyAllWindows()\n",
    "                return matchper,matchfromdb\n",
    "            \n",
    "matchacc,fname=fp_match(test_original)\n",
    "print(matchacc,\"%\")\n",
    "print(fname)"
   ]
  }
 ],
 "metadata": {
  "kernelspec": {
   "display_name": "Python 3",
   "language": "python",
   "name": "python3"
  },
  "language_info": {
   "codemirror_mode": {
    "name": "ipython",
    "version": 3
   },
   "file_extension": ".py",
   "mimetype": "text/x-python",
   "name": "python",
   "nbconvert_exporter": "python",
   "pygments_lexer": "ipython3",
   "version": "3.8.8"
  }
 },
 "nbformat": 4,
 "nbformat_minor": 5
}

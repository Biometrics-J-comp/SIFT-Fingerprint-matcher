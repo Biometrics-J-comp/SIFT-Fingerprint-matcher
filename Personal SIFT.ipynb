{
 "cells": [
  {
   "cell_type": "markdown",
   "id": "4b6e3c35",
   "metadata": {},
   "source": [
    "# Importing necessary libraries"
   ]
  },
  {
   "cell_type": "code",
   "execution_count": 1,
   "id": "a8dda3ec",
   "metadata": {},
   "outputs": [],
   "source": [
    "import cv2\n",
    "import time"
   ]
  },
  {
   "cell_type": "markdown",
   "id": "2414197a",
   "metadata": {},
   "source": [
    "# Fetching Input for the FP input "
   ]
  },
  {
   "cell_type": "code",
   "execution_count": 2,
   "id": "e1e4cc9f",
   "metadata": {},
   "outputs": [],
   "source": [
    "inp_fp = cv2.imread(\"FPDB/Finger-Print.tif\") #read the fingerprint input image\n",
    "cv2.imshow(\"Fingerprint Input\", cv2.resize(inp_fp, None, fx=1, fy=1)) #show image in a different window\n",
    "cv2.waitKey(0) #wait for close on output window\n",
    "cv2.destroyAllWindows() #after closing,delete the window"
   ]
  },
  {
   "cell_type": "markdown",
   "id": "654376d6",
   "metadata": {},
   "source": [
    "# Fingerprint match using SIFT "
   ]
  },
  {
   "cell_type": "code",
   "execution_count": 3,
   "id": "3aa48ac9",
   "metadata": {},
   "outputs": [],
   "source": [
    "def fp_match(fpin):\n",
    "    fingerprint_database_image = cv2.imread('FPDB/2_1.tif') #reading the traversed file\n",
    "    \n",
    "    #before SIFT,we need to create a SIFT feature detector object\n",
    "    sift=cv2.SIFT_create()  #for OpenCV 2\n",
    "        \n",
    "    #FINDING KEYPOINTS(Detect) AND DESCRIPTORS(Compute)\n",
    "    keypoints_1, descriptors_1 = sift.detectAndCompute(fpin, None) #in the original image \n",
    "\n",
    "    keypoints_2, descriptors_2 = sift.detectAndCompute(fingerprint_database_image, None) #in the traversed image\n",
    "\n",
    "    matches = cv2.FlannBasedMatcher(dict(algorithm=1, trees=10),dict()).knnMatch(descriptors_1, descriptors_2, k=2)\n",
    "    match_points = []\n",
    "\n",
    "    #David Lowe's Ratio test\n",
    "    for p, q in matches:\n",
    "        #CHECKING FOR GOOD MATCHES\n",
    "        if p.distance < 0.1*q.distance:\n",
    "            match_points.append(p)\n",
    "        keypoints = 0\n",
    "        if len(keypoints_1) <= len(keypoints_2):\n",
    "            keypoints = len(keypoints_1)            \n",
    "        else:\n",
    "            keypoints = len(keypoints_2)\n",
    "\n",
    "            #if we have a proper match,show the output of matched file,\n",
    "            #%match and the matching lines\n",
    "        #if(len(match_points) / keypoints>0.95):\n",
    "        if(len(match_points) / keypoints>0.95):\n",
    "            matchper=round(len(match_points) / keypoints * 100,2) #Successful matches from the features tracked\n",
    "            #result = cv2.drawMatches(fpin, keypoints_1, fingerprint_database_image, keypoints_2, match_points, None) \n",
    "            #result = cv2.resize(result, None, fx=1.5, fy=2.5)\n",
    "            #cv2.imshow(\"result\", result)\n",
    "            #cv2.waitKey(0)\n",
    "            #cv2.destroyAllWindows()\n",
    "            return matchper"
   ]
  },
  {
   "cell_type": "code",
   "execution_count": 4,
   "id": "237c0a94",
   "metadata": {},
   "outputs": [
    {
     "name": "stdout",
     "output_type": "stream",
     "text": [
      "Try Again :(  ( 0.0 % match)\n",
      "Try Again :(  ( 0.0 % match)\n",
      "Try Again :(  ( 0.0 % match)\n",
      "Weapon Locked\n",
      "Try Again :(  ( 0.0 % match)\n",
      "Try Again :(  ( 0.0 % match)\n",
      "Try Again :(  ( 0.0 % match)\n",
      "-----Weapon Disabled------\n"
     ]
    }
   ],
   "source": [
    "count=3\n",
    "tr=2\n",
    "\n",
    "while(tr>0):\n",
    "    matchacc=fp_match(inp_fp)\n",
    "    if(matchacc==None):\n",
    "        matchacc=0.0\n",
    "        \n",
    "    if(count==0):\n",
    "        tr-=1\n",
    "        if(tr==0):\n",
    "            print(\"\\r-----Weapon Disabled------\")\n",
    "            count=3\n",
    "            tr=2\n",
    "            break\n",
    "        \n",
    "        count=3\n",
    "        print(\"Weapon Locked\")\n",
    "        n=30\n",
    "        while(n!=-1):\n",
    "            print(\"Please Try after:{:>2d}s\".format(n),end=\"\\r\")\n",
    "            time.sleep(1)\n",
    "            n-=1\n",
    "        \n",
    "        \n",
    "    else:\n",
    "        if(matchacc>95):\n",
    "            print(\"Weapon Unlocked! (\",matchacc,\"% match)\")\n",
    "            count=3\n",
    "            tr=2\n",
    "            break\n",
    "        else:\n",
    "            print(\"Try Again :(  (\",matchacc,\"% match)\")\n",
    "            count-=1"
   ]
  },
  {
   "cell_type": "code",
   "execution_count": null,
   "id": "5aeb98a3",
   "metadata": {},
   "outputs": [],
   "source": []
  }
 ],
 "metadata": {
  "kernelspec": {
   "display_name": "Python 3",
   "language": "python",
   "name": "python3"
  },
  "language_info": {
   "codemirror_mode": {
    "name": "ipython",
    "version": 3
   },
   "file_extension": ".py",
   "mimetype": "text/x-python",
   "name": "python",
   "nbconvert_exporter": "python",
   "pygments_lexer": "ipython3",
   "version": "3.8.8"
  }
 },
 "nbformat": 4,
 "nbformat_minor": 5
}
